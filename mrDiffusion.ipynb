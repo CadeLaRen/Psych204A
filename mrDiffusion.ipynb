{
 "metadata": {
  "name": "mrDiffusion"
 },
 "nbformat": 3,
 "nbformat_minor": 0,
 "worksheets": [
  {
   "cells": [
    {
     "cell_type": "heading",
     "level": 1,
     "metadata": {},
     "source": [
      "Diffusion"
     ]
    },
    {
     "cell_type": "markdown",
     "metadata": {},
     "source": [
      "**Class:**     Psych 204a\n",
      "\n",
      "**Tutorial:**  Diffusion\n",
      "\n",
      "**Author:**    Dougherty\n",
      "\n",
      "**Date:**      2001.10.31\n",
      "\n",
      "**Duration:**  45 minutes\n",
      "\n",
      "**Copyright:** Stanford University, Robert F. Dougherty\n",
      "\n",
      "Translated to Python by Bob Dougherty, 11/2012\n",
      "\n",
      "The purpose of this tutorial is to illustrate the nature of the data acquired in a diffusion-weighted imaging scan.  The computational methods available for interpreting these data are also introduced."
     ]
    },
    {
     "cell_type": "markdown",
     "metadata": {},
     "source": [
      "## Self-diffusion of water\n",
      "\n",
      "The self-diffusion coefficient of water (in micrometers^2/millisecond) is dependent on the temperature and pressure. Several groups have derived quantitative descriptions of the relationship between temperature, pressure, and the diffusion coefficient of water. Here we use the formula presented in:\n",
      "\n",
      "* Krynicki, Green & Sawyer (1978) Pressure and temperature dependence of self-diffusion in water. Faraday Discuss. Chem. Soc., 66, 199 - 208.\n",
      "* Mills (1973) Self-Diffusion in Normal and Heavy Water. JPhysChem 77(5), pg. 685 - 688.\n",
      "* Also see http://www.lsbu.ac.uk/water/explan5.html.\n",
      "\n",
      "Let's start by defining a funtion that implements the Krynicki formula. The the default value for the pressure parameter will be set to the standard atmospheric pressure at sea level: 101.325 kilo Pascals (kPa)."
     ]
    },
    {
     "cell_type": "code",
     "collapsed": false,
     "input": [
      "def selfDiffusionOfWater(T, P=101.325):\n",
      "    # Implements the Krynicki formula; returns the self-diffusion of water (in micrometers^2/millisec)\n",
      "    # given the temperature T (in Centigrade) and the pressure P (in kPa).\n",
      "    d = 12.5 * exp(P * -5.22 * 1e-6) * sqrt(T + 273.15) * exp(-925 * exp(P * -2.6 * 1e-6)/(T + 273.15 - (95 + P * 2.61 * 1e-4)))\n",
      "    return d"
     ],
     "language": "python",
     "metadata": {},
     "outputs": []
    },
    {
     "cell_type": "markdown",
     "metadata": {},
     "source": [
      "The self-diffusion of water at body temperature and standard pressure, in micrometers<sup>2</sup>/millimeter, is:"
     ]
    },
    {
     "cell_type": "code",
     "collapsed": false,
     "input": [
      "selfDiffusionOfWater(37)"
     ],
     "language": "python",
     "metadata": {},
     "outputs": []
    },
    {
     "cell_type": "markdown",
     "metadata": {},
     "source": [
      "Now we'll plot D for a biologically meaningful range of temperatures"
     ]
    },
    {
     "cell_type": "code",
     "collapsed": false,
     "input": [
      "T = arange(25,41)\n",
      "D = selfDiffusionOfWater(T)\n",
      "figure(figsize=(6,4))\n",
      "plot(T, D, 'k')\n",
      "xlabel('Temperature (Centigrade)', fontsize=14)\n",
      "ylabel('Self-diffusion ($\\mu$m$^2$/ms)', fontsize=14)\n",
      "plot([37,37], [2,3.4], 'r-')\n",
      "grid()\n",
      "text(37, 3.45, 'Body Temperature', ha='center', color='r', fontsize=12)"
     ],
     "language": "python",
     "metadata": {},
     "outputs": []
    },
    {
     "cell_type": "markdown",
     "metadata": {},
     "source": [
      "### Question 1\n",
      "\n",
      "a. The average atmospheric pressure in Denver Colorado is about 84 kPa.  What is the difference (in percent) between the self-diffusion coefficient of water at body temperature in Denver compared to Palo Alto, which is about at sea level?\n",
      "\n",
      "b. Suppose you are running a fever of 40 deg Centigrade. Compared to someone without a fever, how much higher (in percent) is the water diffusion coefficient in your body?"
     ]
    },
    {
     "cell_type": "code",
     "collapsed": false,
     "input": [
      "# compute your answer here\n"
     ],
     "language": "python",
     "metadata": {},
     "outputs": []
    },
    {
     "cell_type": "markdown",
     "metadata": {},
     "source": [
      "## Brownian motion\n",
      "\n",
      "### Set up the diffusion simulation\n",
      "Here we simulated the brownian motion in a small chunk of tissue. First, we define some parameters, including the size of the simulated voxel (in micrometers), the time step size (in milliseconds), the aparent diffusion coefficient to simulate (in micrometers<sup>2</sup>/millisecond), the barrier spacing (in micrometers), and the number of particles and time-steps to run."
     ]
    },
    {
     "cell_type": "code",
     "collapsed": false,
     "input": [
      "voxelSize = 50.0    # micrometers\n",
      "timeStep = 0.02     # milliseconds\n",
      "ADC = 2.0           # micrometers^2/millisecond)\n",
      "barrierSpacing = 10 # micrometers (set this to 0 for no barriers)\n",
      "numParticles = 500\n",
      "nTimeSteps = 100\n",
      "\n",
      "figure(figsize=(10,10))\n",
      "xlabel('X position (micrometers)')\n",
      "ylabel('Y position (micrometers)')\n",
      "axis('equal')\n",
      "axis([-voxelSize/2,voxelSize/2,-voxelSize/2,voxelSize/2]\n",
      "#set(gca,'ALimMode','manual','XTick',[axLims(1):10:axLims(end)],'YTick',[axLims(1):10:axLims(end)])\n",
      "\n",
      "# Place some particles randomly distributed in the volume\n",
      "# (Note: to sample a circle uniformly, we need to take sqrt(r) to get more\n",
      "# points at the larger radii.)\n",
      "r = sqrt(random.uniform((numParticles,1))) * voxelSize / 2\n",
      "[x,y] = pol2cart(random.uniform((numParticles,1) * 2 * pi, r)\n",
      "\n",
      "startPos = [x,y]\n",
      "curPos = startPos\n",
      "\n",
      "for p in range(numParticles):\n",
      "\tph[p] = plot(curPos[p,0], curPos[p,1], '.', markersize=12)\n",
      "\n",
      "if(barrierSpacing>0)\n",
      "    curCompartment = floor(curPos[:,1] / barrierSpacing)\n",
      "    compartments = unique(curCompartment)\n",
      "    for ii in range(numel(compartments)):\n",
      "        line(axLims,[compartments(ii)*barrierSpacing compartments(ii)*barrierSpacing],'color',[.7,.7,.8]);\n",
      "    end\n",
      "    cmap = hsv(numel(compartments));\n",
      "    for(p=1:numParticles)\n",
      "        set(ph(p), 'color', cmap(curCompartment(p)==compartments,:));\n",
      "    end\n",
      "end\n",
      "grid()"
     ],
     "language": "python",
     "metadata": {},
     "outputs": []
    },
    {
     "cell_type": "markdown",
     "metadata": {},
     "source": [
      "### Run the diffusion simulation\n",
      "\n",
      "In this loop, we update all the particle positions at each time step. The diffusion equation tells us that the final position of a particle moving in Brownian motion can be described by a Gaussian distribution with a standard deviation of sqrt(ADC*timeStep). So we update the current particle position by drawing numbers from a Gaussian with this standard deviation.\n"
     ]
    },
    {
     "cell_type": "code",
     "collapsed": false,
     "input": [
      "totalTime = 0\n",
      "for ti in range(nTimeSteps):\n",
      "    d = randn(numParticles,2)*sqrt(2*ADC*timeStep)\n",
      "    newPos = curPos + d\n",
      "    if barrierSpacing>0:\n",
      "        curCompartment = floor(curPos(:,2)/barrierSpacing)\n",
      "        newCompartment = floor(newPos(:,2)/barrierSpacing)\n",
      "        reflectTheseParticles = newCompartment~=curCompartment\n",
      "        # A simple hack to approximate particles reflecting off the impermeable barrier\n",
      "        newPos(reflectTheseParticles,2) = curPos(reflectTheseParticles,2) - d(reflectTheseParticles,2)\n",
      "    curPos = newPos\n",
      "    # Draw the particles in their new positions:\n",
      "    for(p=1:numParticles)\n",
      "        set(ph(p), 'XData', curPos(p,1), 'YData', curPos(p,2))\n",
      "    end\n",
      "    # To avoid biasing our ADC estimates with edge effects, we allow\n",
      "    # particles to move outside of our simulated voxel.\n",
      "    set(get(ah,'Title'),'String', sprintf('elapsed time: %5.1f ms', timeStep*ti))\n",
      "    # Pause is specified in seconds, so the following will play the movie\n",
      "    # about 1000 times slower than reality.\n",
      "    pause(timeStep - .01)\n",
      "    totalTime = totalTime + timeStep\n",
      "end\n",
      "\n",
      "# Show where each particle came from:\n",
      "hold on;\n",
      "for(p=1:numParticles)\n",
      "\tsh(p) = plot([startPos(p,1) curPos(p,1)], [startPos(p,2) curPos(p,2)], '-', 'color', [.9 .9 .9]);\n",
      "end\n",
      "hold off;"
     ],
     "language": "python",
     "metadata": {},
     "outputs": []
    },
    {
     "cell_type": "markdown",
     "metadata": {},
     "source": [
      "### Question 2\n",
      "\n",
      "a. What is the average position change (startPos-curPos) of each particle?\n",
      "\n",
      "b. What is the average distance that each particle moved? (Hint: compute the Euclidean distance that each moved.)"
     ]
    },
    {
     "cell_type": "code",
     "collapsed": false,
     "input": [
      "# compute your answer here\n"
     ],
     "language": "python",
     "metadata": {},
     "outputs": []
    },
    {
     "cell_type": "markdown",
     "metadata": {},
     "source": [
      "By comparing the particle ending positions (in curPos) with their starting positions (in startPos), we can compute the diffusion tensor. This is essentially just a 2-d Gaussian fit to the position differences, computied using the covariance function (cov). We also need to normalize the positions by the total time that we diffused.\n",
      "\n",
      "The eigensystem of the diffusion tensor (computed using 'eig') describes an isoprobability ellipse through the data points. "
     ]
    },
    {
     "cell_type": "code",
     "collapsed": false,
     "input": [
      "Dt = cov(startPos - curPos) / (2 * totalTime)\n",
      "[vec,val] = eig(Dt)\n",
      "estimatedADC = diag(val)'\n",
      "principalDiffusionDirection = vec(2,:)"
     ],
     "language": "python",
     "metadata": {},
     "outputs": []
    },
    {
     "cell_type": "markdown",
     "metadata": {},
     "source": [
      "### Question 3\n",
      "\n",
      "a. Run the simulation with and without barriers by adjusting the 'barrierSpacing' variable. How does the diffusion tensor change?\n",
      "\n",
      "b. Adjust the barrier spaceing. What effect does this have on the princpal diffusion direction? On the estimatedADC values?\n",
      "\n",
      "c. With barriers in place, reduce the number of time steps (nTimeSteps).How does this affect the estimatedADC values? Explore the interaction between the barrier spacing and the number of time steps."
     ]
    },
    {
     "cell_type": "code",
     "collapsed": false,
     "input": [
      "# compute your answer here\n"
     ],
     "language": "python",
     "metadata": {},
     "outputs": []
    },
    {
     "cell_type": "markdown",
     "metadata": {},
     "source": [
      "# The effect of diffusion on the MR signal\n",
      "We'll simulate an image that represents a vial of water in a 3 Tesla magnetic field. The image intensity at each point will represent the local magnetic field strength, expressed as the Larmor frequency difference between that region and the frequency at 3 T.\n",
      "\n",
      "First let's define some parameters, such as the simulated filed strength (B0) and the gyromagnetic ratio for Hydrogen:"
     ]
    },
    {
     "cell_type": "code",
     "collapsed": false,
     "input": [
      "B0 = 3.0                     # Magnetic field strength (Tesla)\n",
      "gyromagneticRatio = 42.58e+6 # Gyromagnetic constant for hydrogen (Hz / Tesla)\n",
      "\n",
      "# The Larmour frequency (in Hz) of Hydrogen spins in this magnet is:\n",
      "spinFreq = gyromagneticRatio * B0"
     ],
     "language": "python",
     "metadata": {},
     "outputs": []
    },
    {
     "cell_type": "markdown",
     "metadata": {},
     "source": [
      "### Question 4\n",
      "\n",
      "a. What is the Larmour frequency of Hydrogen spins at 1.5T? \n",
      "\n",
      "b. What is it at 7T?"
     ]
    },
    {
     "cell_type": "code",
     "collapsed": false,
     "input": [
      "# compute your answer here\n"
     ],
     "language": "python",
     "metadata": {},
     "outputs": []
    },
    {
     "cell_type": "markdown",
     "metadata": {},
     "source": [
      "### Simulate spins in an MR experiment\n",
      "\n",
      "We start by defining the size of our simulated voxel, in micrometers. For the diffusion gradients, we'll start with the Y gradient turned off and the X gradient set to 5e-8 Tesla per micrometer (that's 50 mT/m, a typical gradient strengh for clinical MR scanners). We'll also quantize space into 100 regions and use meshgrid to lay these out into 2d arrays that be used to compute a 100x100 image. Finally, we compute the relative field strength at each spatial location across our simulated voxel. Gradient strengths are symmetric about the  center. To understand the following expression, work through the units: (micrometers * T/um + micrometers * T/um) leaves us with T. We scale this by 1e6 to express the resulting image in micro-Teslas"
     ]
    },
    {
     "cell_type": "code",
     "collapsed": false,
     "input": [
      "voxelSize = 40.0 # micrometers\n",
      "gx = 5e-8 # Tesla / micrometer\n",
      "gy = 0.0  # Tesla / micrometer\n",
      "\n",
      "x = linspace(-voxelSize/2, voxelSize/2, 100)\n",
      "y = linspace(-voxelSize/2, voxelSize/2, 100)\n",
      "[X,Y] = meshgrid(x,y)\n",
      "\n",
      "relativeFieldStrengthImg = (X*gx + Y*gy) * 1e6\n",
      "\n",
      "figure(1)\n",
      "ih = imagesc(x, y, relativeFieldStrengthImg, cmap=gray(256))\n",
      "cbh = colorbar('SouthOutside')\n",
      "set(get(cbh,'Xlabel'),'String','Relative field strength (microTesla)')\n",
      "axis('image')\n",
      "ah = gca;\n",
      "xlabel('X position (micrometers)')\n",
      "ylabel('Y position (micrometers)')\n",
      "\n",
      "# Place some example spin packets in there:\n",
      "sx = linspace(-voxelSize/2+voxelSize/10, voxelSize/2-voxelSize/10, 5);\n",
      "sy = linspace(-voxelSize/2+voxelSize/10, voxelSize/2-voxelSize/10, 5);\n",
      "[spinXLocs,spinYLocs] = meshgrid(sx,sy);\n",
      "\n",
      "spinPoint = zeros((1,spinXLocs.size))\n",
      "spinCenter = zeros((1,spinXLocs.size))\n",
      "for ii in range(spinXLocs.size):\n",
      "    spinPoint[ii] = plot(spinXLocs[ii], spinYLocs[ii], 'r.', markerSize=12)\n",
      "\tspinCenter[ii] = plot(spinXLocs[ii], spinYLocs[ii], 'k.', markerSize=12)"
     ],
     "language": "python",
     "metadata": {},
     "outputs": []
    },
    {
     "cell_type": "markdown",
     "metadata": {},
     "source": [
      "Calculate the relative spin frequency at each spin location. Our gradient strengths are expressed as T/cm and are symmetric about the center of the voxelSize. To understand the following expression, work through the units: (centimeters * T/cm + centimeters * T/cm) * Hz/Tesla + Tesla*Hz/Tesla leaves us with MHz\n"
     ]
    },
    {
     "cell_type": "code",
     "collapsed": false,
     "input": [
      "spinFreq = (spinXLocs.flatten() * gx + spinYLocs.flatten() * gy) * gyromagneticRatio + B0 * gyromagneticRatio\n",
      "print spinFreq"
     ],
     "language": "python",
     "metadata": {},
     "outputs": []
    },
    {
     "cell_type": "markdown",
     "metadata": {},
     "source": [
      "Note that including the B0 field in this equation simply adds an offset to the spin frequency. For most purposes, we usually only care about the spin frequency relative to the B0 frequency (i.e., the rotating frame of reference), so we can leave that last term off and compute relative frequencies:"
     ]
    },
    {
     "cell_type": "code",
     "collapsed": false,
     "input": [
      "relativeSpinFreq = (spinXLocs.flatten() * gx + spinYLocs.flatten() * gy) * gyromagneticRatio\n",
      "print "
     ],
     "language": "python",
     "metadata": {},
     "outputs": []
    },
    {
     "cell_type": "markdown",
     "metadata": {},
     "source": [
      "### Question 5\n",
      "\n",
      "a. Speculate on why the relative spin frequency is the most important value to calculate here.\n",
      "\n",
      "b. Do you think the B0 field strength will play a role in the calcualtion of the diffusion tensor?"
     ]
    },
    {
     "cell_type": "code",
     "collapsed": false,
     "input": [
      "# compute your answer here\n"
     ],
     "language": "python",
     "metadata": {},
     "outputs": []
    },
    {
     "cell_type": "markdown",
     "metadata": {},
     "source": [
      "#### Display the relative frequencies (in Hz)\n",
      "\n",
      "When we first apply an RF pulse, all the spins will all precess in phase. If they are all experienceing the same magnetic field, they will remain in phase. However, if some spins experience a different local field, they will become out of phase with the others. Let's show this with a movie, where the phase will be represented with color. Our timestep is 1 millisecond."
     ]
    },
    {
     "cell_type": "code",
     "collapsed": false,
     "input": [
      "for ii in range(spinXLocs.size):\n",
      "    text(spinXLocs[ii], spinYLocs[ii], sprintf('%0.fHz', relativeSpinFreq[ii]), color='b', ha='center', va='top'))\n",
      "\n",
      "timeStep = .001\n",
      "\n",
      "# Initialize the transverse magnitization to reflect a 90 deg RF pulse:\n",
      "Mxy0 = 2\n",
      "curSpinPhase = zeros(spinCenter.size)\n",
      "T2 = 0.10\n",
      "t = 0\n",
      "nTimeSteps = 100\n",
      "for ti in range(nTimeSteps):\n",
      "    S = 0\n",
      "    for s in range(spinCenter.size):\n",
      "        # Get the position of this spin packet\n",
      "        sx = get(spinCenter[s], 'XData')\n",
      "        sy = get(spinCenter[s], 'YData')\n",
      "        # Update the current phase\n",
      "        curSpinPhase[s] = curSpinPhase[s] + 2*pi*gyromagneticRatio * (sx*gx+sy*gy) * timeStep\n",
      "        # Do a 180 flip at the TE/2:\n",
      "        if ti==round(nTimeSteps/2.):\n",
      "            curSpinPhase[s] = -curSpinPhase[s]\n",
      "        # The transverse magnitization magnitude decays with the T2:\n",
      "        #Mxy = Mxy0 + exp(-t/T2) * exp(1i*curSpinPhase(s)); \n",
      "        #curMag = abs(Mxy);\n",
      "        #curPhase = angle(Mxy);\n",
      "        curMagnitude = Mxy0*exp(-t/T2)\n",
      "        curPhase = curSpinPhase[s]\n",
      "        px = sin(curPhase)*curMagnitude\n",
      "        py = cos(curPhase)*curMagnitude\n",
      "        set(spinPoint[s], 'XData', sx+px, 'YData', sy+py)\n",
      "        # Summarize the total MR signal for this iteration\n",
      "        S = S + px^2 + py^2\n",
      "    S = sqrt(S)/spinCenter.size\n",
      "    t = t+timeStep\n",
      "    set(get(ah,'Title'), string=sprintf('elapsed time: %5.1f ms',timeStep*t*1000))\n",
      "    pause(.1);"
     ],
     "language": "python",
     "metadata": {},
     "outputs": []
    },
    {
     "cell_type": "code",
     "collapsed": false,
     "input": [],
     "language": "python",
     "metadata": {},
     "outputs": []
    }
   ],
   "metadata": {}
  }
 ]
}