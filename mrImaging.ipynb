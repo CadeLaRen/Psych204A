{
 "metadata": {
  "name": "mrImaging"
 },
 "nbformat": 3,
 "nbformat_minor": 0,
 "worksheets": [
  {
   "cells": [
    {
     "cell_type": "heading",
     "level": 1,
     "metadata": {},
     "source": [
      "MR Imaging"
     ]
    },
    {
     "cell_type": "markdown",
     "metadata": {},
     "source": [
      "**Class:**     Psych 204a\n",
      "\n",
      "**Tutorial:**  MR Imaging\n",
      "\n",
      "**Author:**    Wandell\n",
      "\n",
      "**Date:**      03.15.04\n",
      "\n",
      "**Duration:**  90 minutes\n",
      "\n",
      "**Copyright:** Stanford University, Brian A. Wandell\n",
      "\n",
      "**Checked:**  \n",
      "\n",
      "- Oct 2007:   Rory Sayres\n",
      "- Sep 2009:   Jon Winawer\n",
      "\n",
      "Translated to Python by Michael Waskom, 10/2012"
     ]
    },
    {
     "cell_type": "markdown",
     "metadata": {},
     "source": [
      "This tutorial covers two related topics.  First, pulse sequence methods\n",
      "for measuring T1 or T2 are illustrated.  These are introduced by\n",
      "explaining two types of pulse sequences (inversion recovery and spin\n",
      "echo) that selectively emphasize the T1 or T2 tissue properties.\n",
      "\n",
      "Then, the tutorial continues with a very simple example of how one can\n",
      "form images of the relaxation constants (T1 or T2) at different positions\n",
      " \n",
      "* You should complete the tutorial \"mrTutMR\" prior to this one.\n",
      "* This tutorial requires the additional functions: \n",
      "- inversionRecovery\n",
      "- spinEcho\n",
      "- rfSignal\n",
      "- plotRF\n",
      "- phaseEncode\n",
      "- arrow\n",
      "\n",
      "* To further explore k-space sampling issues, run kspaceDemo "
     ]
    },
    {
     "cell_type": "code",
     "collapsed": false,
     "input": [
      "%pylab inline\n",
      "import matplotlib as mpl\n",
      "mpl.rcParams[\"figure.figsize\"] = (8, 6)\n",
      "mpl.rcParams[\"axes.grid\"] = True\n",
      "from IPython.display import display, clear_output"
     ],
     "language": "python",
     "metadata": {},
     "outputs": [
      {
       "output_type": "stream",
       "stream": "stdout",
       "text": [
        "\n",
        "Welcome to pylab, a matplotlib-based Python environment [backend: module://IPython.zmq.pylab.backend_inline].\n",
        "For more information, type 'help(pylab)'.\n"
       ]
      }
     ],
     "prompt_number": 111
    },
    {
     "cell_type": "code",
     "collapsed": false,
     "input": [
      "from time import sleep"
     ],
     "language": "python",
     "metadata": {},
     "outputs": [],
     "prompt_number": 92
    },
    {
     "cell_type": "code",
     "collapsed": false,
     "input": [
      "def cart2pol(x, y):\n",
      "    theta = arctan2(y, x)\n",
      "    r = sqrt(x ** 2 + y ** 2)\n",
      "    return theta, r\n",
      "\n",
      "def pol2cart(theta, r):\n",
      "    x = r * cos(theta)\n",
      "    y = r * sin(theta)\n",
      "    return x, y\n",
      "\n",
      "def inversion_recovery(T1):\n",
      "    \"\"\"Short graphical illustration of the Inversion Recovery idea.\"\"\"\n",
      "    f, ax = subplots(1, 1)\n",
      "    ax.set_aspect(\"equal\")\n",
      "    ax.set_xlim(-10, 10)\n",
      "    ax.set_ylim(-10, 10)   \n",
      "    \n",
      "    # Original net magnetization\n",
      "    m = [0, 10]\n",
      "    p0, r0 = cart2pol(*m)\n",
      "    arr = Arrow(0, 0, *m)\n",
      "    ax.add_patch(arr)\n",
      "    display(f)\n",
      "    sleep(.5)\n",
      "\n",
      "    clear_output()\n",
      "    ax.text(-2, 10, \"$180^o$ RF pulse\")\n",
      "    display(f)\n",
      "    sleep(.5)\n",
      "    \n",
      "    # Flip the magnetization with a 180 pulse\n",
      "    arr.remove()\n",
      "    p, r = cart2pol(*m)\n",
      "    p = p0 - pi\n",
      "    m = pol2cart(p, r)\n",
      "    arr = Arrow(0, 0, *m)\n",
      "    ax.add_patch(arr)\n",
      "    clear_output()\n",
      "    display(f)\n",
      "    sleep(.5)\n",
      "    \n",
      "    # Let the T1 value decay for a while at the T1 rate.\n",
      "    for t in arange(0, 0.8, 0.15):  # Time in seconds\n",
      "        arr.remove()\n",
      "        r = r0 - 2 * r0 *exp(-t / T1)\n",
      "        p = p0 if r > 0 else p\n",
      "        m = pol2cart(p, abs(r))\n",
      "        print m\n",
      "        arr = Arrow(0, 0, *m)\n",
      "        ax.add_patch(arr)\n",
      "        clear_output()\n",
      "        display(f)\n",
      "        sleep(0.2)\n",
      "    \n",
      "    plt.close()\n",
      "    #return f, ax"
     ],
     "language": "python",
     "metadata": {},
     "outputs": [],
     "prompt_number": 132
    },
    {
     "cell_type": "code",
     "collapsed": false,
     "input": [
      "inversion_recovery(2.8)"
     ],
     "language": "python",
     "metadata": {},
     "outputs": [
      {
       "output_type": "display_data",
       "png": "[encoded data removed]",
       "text": [
        "<matplotlib.figure.Figure at 0x9491e10>"
       ]
      }
     ],
     "prompt_number": 134
    },
    {
     "cell_type": "code",
     "collapsed": false,
     "input": [
      "inversion_recovery(10);"
     ],
     "language": "python",
     "metadata": {},
     "outputs": [
      {
       "output_type": "display_data",
       "png": "[encoded data removed]"
      }
     ],
     "prompt_number": 76
    },
    {
     "cell_type": "code",
     "collapsed": false,
     "input": [
      "ax = subplot(111)\n",
      "arr = Arrow(0, 0, 5, 5, width=.1)\n",
      "ax.add_patch(arr)\n",
      "ax.set_ylim(0, 10)\n",
      "ax.set_xlim(0, 10)"
     ],
     "language": "python",
     "metadata": {},
     "outputs": [
      {
       "output_type": "pyout",
       "prompt_number": 64,
       "text": [
        "(0, 10)"
       ]
      },
      {
       "output_type": "display_data",
       "png": "[encoded data removed]"
      }
     ],
     "prompt_number": 64
    },
    {
     "cell_type": "code",
     "collapsed": false,
     "input": [
      "inversion_recovery(10)"
     ],
     "language": "python",
     "metadata": {},
     "outputs": [
      {
       "output_type": "display_data",
       "png": "[encoded data removed]"
      }
     ],
     "prompt_number": 42
    },
    {
     "cell_type": "code",
     "collapsed": false,
     "input": [
      "function inversionRecovery(T1)\n",
      "%\n",
      "% Short graphical implementation illustrating the Inversion Recovery idea.\n",
      "%\n",
      "\n",
      "set(gca,'xlim',[-10,10],'ylim',[-10,10]); axis equal\n",
      "axis(axis); grid on; ylabel('B0 axis'); cla\n",
      "\n",
      "% Original net magnetization\n",
      "m = [0,10]; [p0,r0] = cart2pol(m(1),m(2));\n",
      "a = arrow([0,0],m(1:2));  set(a,'edgecolor',[1,0,0])\n",
      "pause(0.5)\n",
      "\n",
      "txt = text(-2,10,'180-deg rf pulse');\n",
      "pause(0.4);\n",
      "\n",
      "% Flip the magnetization with a 180 pulse\n",
      "delete(a)\n",
      "[p,r] = cart2pol(m(1),m(2)); p = p0 - pi; [m(1),m(2)] = pol2cart(p,r);\n",
      "a = arrow([0,0],m);  set(a,'edgecolor',[1,0,0])\n",
      "\n",
      "pause(0.6);\n",
      "\n",
      "% Let the T1 value decay for a while at the T1 rate.\n",
      "for t=[0:0.15:0.8]    % Time in seconds\n",
      "    delete(a)\n",
      "    r = (r0 - 2*r0*exp(-t/T1)); \n",
      "    if r > 0, p = p0; end\n",
      "    [m(1),m(2)] = pol2cart(p,abs(r)); \n",
      "    a = arrow([0,0],m);  set(a,'edgecolor',[1,0,0]);\n",
      "    pause(0.4);\n",
      "end\n",
      "\n",
      "delete(txt);\n",
      "txt = text(-2,10,'90-deg rf pulse');\n",
      "\n",
      "% Rotate the magnetization using a 90 deg pulse to measure it\n",
      "for ii = [1:5]\n",
      "    delete(a)\n",
      "    [p,r] = cart2pol(m(1),m(2)); p = p - (pi/2)/5; [m(1),m(2)] = pol2cart(p,r);\n",
      "    a = arrow([0,0],m);  set(a,'edgecolor',[1,0,0])\n",
      "    pause(0.2)\n",
      "end\n",
      "\n",
      "delete(txt);\n",
      "txt = text(-2,10,'Measure RF now.');\n",
      "\n",
      "return;"
     ],
     "language": "python",
     "metadata": {},
     "outputs": []
    }
   ],
   "metadata": {}
  }
 ]
}